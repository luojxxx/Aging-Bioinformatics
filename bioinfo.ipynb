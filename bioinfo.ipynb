{
 "cells": [
  {
   "cell_type": "code",
   "execution_count": 1,
   "id": "784957f1-aae0-471b-9517-a081e6163aa1",
   "metadata": {},
   "outputs": [],
   "source": [
    "# loading libraries\n",
    "import pandas as pd\n",
    "import networkx as nx\n",
    "import os\n",
    "from tqdm import tqdm\n",
    "import statistics\n",
    "import seaborn as sns\n",
    "import matplotlib as mpl\n",
    "import matplotlib.pyplot as plt"
   ]
  },
  {
   "cell_type": "code",
   "execution_count": 2,
   "id": "0acfa00a-87e5-45a1-a462-20c4ce6a9e7d",
   "metadata": {},
   "outputs": [],
   "source": [
    "# loading and cleaning ENSG converter\n",
    "test = []\n",
    "geneId_geneName = {}\n",
    "with open('Homo_sapiens.GRCh37.74.gtf', 'r') as file:\n",
    "    for line in file:\n",
    "        line = line.strip()\n",
    "        data = line.split('\\t')[-1]\n",
    "        test.append(data)\n",
    "        if 'gene_name' in data:\n",
    "            attributes = data.split(';')\n",
    "            geneId = attributes[0].split(' ')[1].strip('\"')\n",
    "            for attr in attributes:\n",
    "                if 'gene_name' in attr:\n",
    "                    geneName = attr.split(' ')[2].strip('\"')\n",
    "                    if geneId not in geneId_geneName:\n",
    "                        geneId_geneName[geneId] = geneName\n",
    "geneName_geneId = {v: k for k, v in geneId_geneName.items()}"
   ]
  },
  {
   "cell_type": "code",
   "execution_count": 3,
   "id": "274748f2-3e90-4e02-a674-71b46a8d7eea",
   "metadata": {},
   "outputs": [],
   "source": [
    "def createRegulatory(regulatory_filepath):\n",
    "    # loading, cleaning, and permutating regulatory dataset\n",
    "    print(f'Loading: {regulatory_filepath}')\n",
    "    regulatory = pd.read_csv(regulatory_filepath, index_col=0)\n",
    "    \n",
    "    exceptions = []\n",
    "    for name in regulatory.index:\n",
    "        try:\n",
    "            regulatory = regulatory.rename(index={name: geneName_geneId[name]})\n",
    "        except:\n",
    "            exceptions.append(name)\n",
    "    \n",
    "    print(f'Row exception count: {len(exceptions)}')\n",
    "    \n",
    "    for exc in exceptions:\n",
    "        regulatory = regulatory.drop(exc)\n",
    "    \n",
    "    exceptions = []\n",
    "    for ID in regulatory.columns.tolist():\n",
    "        if ID not in geneId_geneName:\n",
    "            exceptions.append(ID)\n",
    "    \n",
    "    print(f'Column exception count: {len(exceptions)}')\n",
    "\n",
    "    for exc in exceptions:\n",
    "        regulatory = regulatory.drop(exc)\n",
    "    \n",
    "    def inverse(x):\n",
    "        return 1/x\n",
    "    \n",
    "    def absolute(x):\n",
    "        return abs(x)\n",
    "    \n",
    "    regulatory = regulatory.map(inverse)\n",
    "    regulatory = regulatory.map(absolute)\n",
    "\n",
    "    return regulatory\n",
    "\n",
    "def createEndpoints(filepath):\n",
    "    # loading and cleaning dataset\n",
    "    endpoints = pd.read_csv(filepath, sep='\\t', index_col=0)\n",
    "    \n",
    "    exceptions = []\n",
    "    for name in endpoints.index:\n",
    "        try:\n",
    "            endpoints = endpoints.rename(index={name: geneName_geneId[name.upper()]})\n",
    "        except:\n",
    "            exceptions.append(name)\n",
    "    \n",
    "    print(f'Endpoints exception count: {len(exceptions)}')\n",
    "    \n",
    "    for exc in exceptions:\n",
    "        endpoints = endpoints.drop(exc)\n",
    "\n",
    "    return list(endpoints.index)\n",
    "\n",
    "def createRandomEndpoints(regulatory, num, seed):\n",
    "    rand = regulatory.sample(n=num, random_state=seed)\n",
    "    return list(rand.index)\n",
    "\n",
    "def createGraph(regulatory, endpoints):\n",
    "    # creating network\n",
    "    regMatrix = regulatory.to_numpy().tolist()\n",
    "    \n",
    "    G = nx.Graph()\n",
    "    nodes = list(set(list(regulatory.index) + regulatory.columns.tolist() + endpoints))\n",
    "    G.add_nodes_from(nodes)\n",
    "    edgeCount = 0\n",
    "    for rowName, row in zip(regulatory.index, regMatrix):\n",
    "        for columnName, cell in zip(regulatory.columns.tolist(), row):\n",
    "            # if cell < 10:\n",
    "            G.add_edge(rowName, columnName, weight=cell)\n",
    "            edgeCount += 1\n",
    "    \n",
    "    print(f'EdgeCount: {edgeCount}')\n",
    "\n",
    "    return G\n",
    "\n",
    "def connectionEnrichment(origins, endpoints):\n",
    "    datasets = os.listdir('data')\n",
    "    count = {}\n",
    "    for i, dataset in enumerate(datasets):\n",
    "        print(i)\n",
    "        regulatory = createRegulatory(f'data/{dataset}')\n",
    "        G = createGraph(regulatory, endpoints)\n",
    "        for origin in origins:\n",
    "            for i, endpoint in enumerate(tqdm(endpoints)):\n",
    "                try:\n",
    "                    path = nx.shortest_path(G, origin, endpoint, weight=\"weight\")\n",
    "                    for node in path:\n",
    "                        if node not in count:\n",
    "                            count[node] = 1\n",
    "                        else:\n",
    "                            count[node] += 1\n",
    "                except:\n",
    "                    pass\n",
    "    return count\n",
    "\n",
    "def removeOrigins(dic):\n",
    "    return { k:v for (k,v) in dic.items() if value > 10000}\n",
    "\n",
    "def sortDic(dic):\n",
    "    return dict(reversed(sorted(dic.items(), key=lambda item: item[1])))\n",
    "\n",
    "def printResultsWithStats(dic):\n",
    "    print(f'Size: {len(controlSortedCount2)}')\n",
    "    print(f'Average: {statistics.mean(controlSortedCount2.values())}')\n",
    "    print(f'Median: {statistics.median(controlSortedCount2.values())}')\n",
    "    print(controlSortedCount2)"
   ]
  },
  {
   "cell_type": "code",
   "execution_count": 4,
   "id": "bbe62678-d06a-4709-87ca-d56af241e3f6",
   "metadata": {},
   "outputs": [],
   "source": [
    "# defining origins\n",
    "OCT4 = 'ENSG00000229094'\n",
    "SOX2 = 'ENSG00000181449'\n",
    "KLF4 = 'ENSG00000136826'\n",
    "OSKgenes = [OCT4, SOX2, KLF4]"
   ]
  },
  {
   "cell_type": "code",
   "execution_count": null,
   "id": "9aeb5d9d-dc84-4110-9b6e-42c6bc3ec9fe",
   "metadata": {
    "scrolled": true
   },
   "outputs": [
    {
     "name": "stdout",
     "output_type": "stream",
     "text": [
      "Endpoints exception count: 15\n",
      "0\n",
      "Loading: data/Testis.csv\n",
      "Row exception count: 0\n",
      "Column exception count: 0\n",
      "EdgeCount: 19476492\n"
     ]
    },
    {
     "name": "stderr",
     "output_type": "stream",
     "text": [
      "100%|█████████████████████████████████████████████████████████████████████████████████████████████████████████████████████████████████████████| 310/310 [02:50<00:00,  1.81it/s]\n",
      "100%|█████████████████████████████████████████████████████████████████████████████████████████████████████████████████████████████████████████| 310/310 [02:46<00:00,  1.86it/s]\n",
      "100%|█████████████████████████████████████████████████████████████████████████████████████████████████████████████████████████████████████████| 310/310 [02:44<00:00,  1.88it/s]\n"
     ]
    },
    {
     "name": "stdout",
     "output_type": "stream",
     "text": [
      "1\n",
      "Loading: data/Brain_Cerebellum.csv\n",
      "Row exception count: 0\n",
      "Column exception count: 0\n",
      "EdgeCount: 19476492\n"
     ]
    },
    {
     "name": "stderr",
     "output_type": "stream",
     "text": [
      "100%|█████████████████████████████████████████████████████████████████████████████████████████████████████████████████████████████████████████| 310/310 [02:45<00:00,  1.87it/s]\n",
      "  4%|████▉                                                                                                                                     | 11/310 [00:05<02:49,  1.77it/s]"
     ]
    }
   ],
   "source": [
    "# multi-dataset aging gene enrichment\n",
    "globalAgingGenes = createEndpoints('global_aging_genes.tsv')\n",
    "agingCount = connectionEnrichment(OSKgenes, globalAgingGenes)"
   ]
  },
  {
   "cell_type": "code",
   "execution_count": null,
   "id": "f30ad9c9-9e0a-4338-a5fe-a54d8edf4114",
   "metadata": {
    "scrolled": true
   },
   "outputs": [],
   "source": [
    "# removing OSKgenes from path\n",
    "agingCount.pop('ENSG00000229094')\n",
    "agingCount.pop('ENSG00000136826')\n",
    "agingCount.pop('ENSG00000181449')\n",
    "\n",
    "# printing results\n",
    "agingSortedCount = sortDic(agingCount)\n",
    "printResultsWithStats(agingSortedCount)"
   ]
  },
  {
   "cell_type": "code",
   "execution_count": null,
   "id": "07781301-7d7e-469c-a660-aacc82b80270",
   "metadata": {},
   "outputs": [],
   "source": []
  },
  {
   "cell_type": "code",
   "execution_count": null,
   "id": "7a5f7f01-9137-4e7b-8265-e74c54a29679",
   "metadata": {
    "scrolled": true
   },
   "outputs": [],
   "source": [
    "# control experiment 1\n",
    "datasets = os.listdir('data')\n",
    "regulatory = createRegulatory(f'data/{datasets[0]}')\n",
    "globalAgingGenes = createEndpoints('global_aging_genes.tsv')\n",
    "randomGenes = createRandomEndpoints(regulatory, len(globalAgingGenes) + len(OSKgenes), 42)\n",
    "origins = randomGenes[len(globalAgingGenes):]\n",
    "endpoints = randomGenes[:len(globalAgingGenes)]\n",
    "controlCount1 = connectionEnrichment(origins, endpoints)"
   ]
  },
  {
   "cell_type": "code",
   "execution_count": null,
   "id": "a691014a-7e2c-4b4d-b5ce-79b0b46f194d",
   "metadata": {
    "scrolled": true
   },
   "outputs": [],
   "source": [
    "# removing random 'OSKgenes' from path\n",
    "control1 = removeOrigins(controlCount1)\n",
    "\n",
    "# printing results\n",
    "controlSortedCount1 = sortDic(control1)\n",
    "printResultsWithStats(controlSortedCount1)"
   ]
  },
  {
   "cell_type": "code",
   "execution_count": null,
   "id": "7efa8067-00d4-40a4-ba7a-1c739136623b",
   "metadata": {},
   "outputs": [],
   "source": []
  },
  {
   "cell_type": "code",
   "execution_count": null,
   "id": "ded410a5-d454-49df-b1af-9a31bc8329c2",
   "metadata": {
    "scrolled": true
   },
   "outputs": [],
   "source": [
    "# control experiment 2\n",
    "datasets = os.listdir('data')\n",
    "regulatory = createRegulatory(f'data/{datasets[0]}')\n",
    "globalAgingGenes = createEndpoints('global_aging_genes.tsv')\n",
    "randomGenes = createRandomEndpoints(regulatory, len(globalAgingGenes) + len(OSKgenes), 43)\n",
    "origins = randomGenes[len(globalAgingGenes):]\n",
    "endpoints = randomGenes[:len(globalAgingGenes)]\n",
    "controlCount2 = connectionEnrichment(origins, endpoints)\n",
    "\n",
    "# removing random 'OSKgenes' from path\n",
    "controlCount2.pop('ENSG00000229094')\n",
    "controlCount2.pop('ENSG00000136826')\n",
    "controlCount2.pop('ENSG00000181449')"
   ]
  },
  {
   "cell_type": "code",
   "execution_count": null,
   "id": "e2e852bd-3c93-4db5-bcf3-02ecdab81b01",
   "metadata": {
    "scrolled": true
   },
   "outputs": [],
   "source": [
    "# removing random 'OSKgenes' from path\n",
    "control2 = removeOrigins(controlCount2)\n",
    "\n",
    "# printing results\n",
    "controlSortedCount2 = sortDic(control2)\n",
    "printResultsWithStats(controlSortedCount2)"
   ]
  },
  {
   "cell_type": "code",
   "execution_count": null,
   "id": "ddbd56f5-3749-4c26-984d-ccdf542e9af1",
   "metadata": {},
   "outputs": [],
   "source": []
  },
  {
   "cell_type": "code",
   "execution_count": null,
   "id": "4c7227d2-6290-4fe6-874e-133a4d948c9a",
   "metadata": {
    "scrolled": true
   },
   "outputs": [],
   "source": [
    "# control experiment 3\n",
    "datasets = os.listdir('data')\n",
    "regulatory = createRegulatory(f'data/{datasets[0]}')\n",
    "globalAgingGenes = createEndpoints('global_aging_genes.tsv')\n",
    "randomGenes = createRandomEndpoints(regulatory, len(globalAgingGenes) + len(OSKgenes), 44)\n",
    "origins = randomGenes[len(globalAgingGenes):]\n",
    "endpoints = randomGenes[:len(globalAgingGenes)]\n",
    "controlCount3 = connectionEnrichment(origins, endpoints)\n",
    "\n",
    "# removing random 'OSKgenes' from path\n",
    "controlCount3.pop('ENSG00000229094')\n",
    "controlCount3.pop('ENSG00000136826')\n",
    "controlCount3.pop('ENSG00000181449')"
   ]
  },
  {
   "cell_type": "code",
   "execution_count": null,
   "id": "b4b7d718-b355-4866-b3ab-f62c752fa901",
   "metadata": {},
   "outputs": [],
   "source": [
    "# removing random 'OSKgenes' from path\n",
    "control3 = removeOrigins(controlCount3)\n",
    "\n",
    "# printing results\n",
    "controlSortedCount3 = sortDic(control3)\n",
    "printResultsWithStats(controlSortedCount3)"
   ]
  },
  {
   "cell_type": "code",
   "execution_count": null,
   "id": "301923b0-4f5e-45f0-8b3e-54893daec460",
   "metadata": {},
   "outputs": [],
   "source": []
  },
  {
   "cell_type": "code",
   "execution_count": null,
   "id": "3336e945-b484-4e8f-b594-e74860e91c5e",
   "metadata": {},
   "outputs": [],
   "source": [
    "# creating graph\n",
    "agingCount = [values for key, values in agingSortedDict.items()]\n",
    "controlCount1 = [values for key, values in controlSortedDict1.items()]\n",
    "controlCount2 = [values for key, values in controlSortedDict2.items()]\n",
    "controlCount3 = [values for key, values in controlSortedDict3.items()]\n",
    "agingName = ['aging' for i in range(len(agingCount))]\n",
    "controlName1 = ['control1' for i in range(len(controlCount1))]\n",
    "controlName2 = ['control2' for i in range(len(controlCount2))]\n",
    "controlName3 = ['control3' for i in range(len(controlCount3))]\n",
    "\n",
    "counts = agingCount + controlCount1 + controlCount2 + controlCount3\n",
    "names = agingName + controlName1 + controlName2 + controlName3\n",
    "\n",
    "df = pd.DataFrame({'counts': counts, 'names': names})\n",
    "\n",
    "sns.set_theme(style=\"ticks\")\n",
    "\n",
    "f, ax = plt.subplots(figsize=(7, 5))\n",
    "sns.despine(f)\n",
    "\n",
    "sns.histplot(\n",
    "    df,\n",
    "    x=\"counts\", hue=\"names\",\n",
    "    multiple=\"stack\",\n",
    "    palette=\"light:m_r\",\n",
    "    edgecolor=\".3\",\n",
    "    linewidth=.5,\n",
    "    log_scale=True,\n",
    ")\n",
    "ax.xaxis.set_major_formatter(mpl.ticker.ScalarFormatter())"
   ]
  },
  {
   "cell_type": "code",
   "execution_count": null,
   "id": "b3f564e2-3f03-416e-86ef-ed13280d75cd",
   "metadata": {},
   "outputs": [],
   "source": []
  },
  {
   "cell_type": "code",
   "execution_count": null,
   "id": "aed4cf12-2708-47f5-bcf8-9852cc31cb10",
   "metadata": {},
   "outputs": [],
   "source": []
  }
 ],
 "metadata": {
  "kernelspec": {
   "display_name": "Python 3 (ipykernel)",
   "language": "python",
   "name": "python3"
  },
  "language_info": {
   "codemirror_mode": {
    "name": "ipython",
    "version": 3
   },
   "file_extension": ".py",
   "mimetype": "text/x-python",
   "name": "python",
   "nbconvert_exporter": "python",
   "pygments_lexer": "ipython3",
   "version": "3.13.0"
  }
 },
 "nbformat": 4,
 "nbformat_minor": 5
}
