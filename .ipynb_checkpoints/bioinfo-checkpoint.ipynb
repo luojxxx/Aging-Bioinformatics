{
 "cells": [
  {
   "cell_type": "code",
   "execution_count": 1,
   "id": "784957f1-aae0-471b-9517-a081e6163aa1",
   "metadata": {},
   "outputs": [],
   "source": [
    "# loading libraries\n",
    "import pandas as pd\n",
    "import networkx as nx\n",
    "import os\n",
    "from tqdm import tqdm"
   ]
  },
  {
   "cell_type": "code",
   "execution_count": 2,
   "id": "0acfa00a-87e5-45a1-a462-20c4ce6a9e7d",
   "metadata": {},
   "outputs": [],
   "source": [
    "# loading and cleaning ENSG converter\n",
    "test = []\n",
    "geneId_geneName = {}\n",
    "with open('Homo_sapiens.GRCh37.74.gtf', 'r') as file:\n",
    "    for line in file:\n",
    "        line = line.strip()\n",
    "        data = line.split('\\t')[-1]\n",
    "        test.append(data)\n",
    "        if 'gene_name' in data:\n",
    "            attributes = data.split(';')\n",
    "            geneId = attributes[0].split(' ')[1].strip('\"')\n",
    "            for attr in attributes:\n",
    "                if 'gene_name' in attr:\n",
    "                    geneName = attr.split(' ')[2].strip('\"')\n",
    "                    if geneId not in geneId_geneName:\n",
    "                        geneId_geneName[geneId] = geneName\n",
    "geneName_geneId = {v: k for k, v in geneId_geneName.items()}"
   ]
  },
  {
   "cell_type": "code",
   "execution_count": 3,
   "id": "274748f2-3e90-4e02-a674-71b46a8d7eea",
   "metadata": {},
   "outputs": [],
   "source": [
    "def createRegulatory(regulatory_filepath):\n",
    "    # loading, cleaning, and permutating regulatory dataset\n",
    "    print(f'loading: {regulatory_filepath}')\n",
    "    regulatory = pd.read_csv(regulatory_filepath, index_col=0)\n",
    "    \n",
    "    exceptions = []\n",
    "    for name in regulatory.index:\n",
    "        try:\n",
    "            regulatory = regulatory.rename(index={name: geneName_geneId[name]})\n",
    "        except:\n",
    "            exceptions.append(name)\n",
    "    \n",
    "    print(f'Row exception count: {len(exceptions)}')\n",
    "    \n",
    "    for exc in exceptions:\n",
    "        regulatory = regulatory.drop(exc)\n",
    "    \n",
    "    exceptions = []\n",
    "    for ID in regulatory.columns.tolist():\n",
    "        if ID not in geneId_geneName:\n",
    "            exceptions.append(ID)\n",
    "    \n",
    "    print(f'Column exception count: {len(exceptions)}')\n",
    "\n",
    "    for exc in exceptions:\n",
    "        regulatory = regulatory.drop(exc)\n",
    "    \n",
    "    def inverse(x):\n",
    "        return 1/x\n",
    "    \n",
    "    def absolute(x):\n",
    "        return abs(x)\n",
    "    \n",
    "    regulatory = regulatory.map(inverse)\n",
    "    regulatory = regulatory.map(absolute)\n",
    "\n",
    "    return regulatory\n",
    "\n",
    "def createEndpoints(filepath):\n",
    "    # loading and cleaning dataset\n",
    "    endpoints = pd.read_csv(filepath, sep='\\t', index_col=0)\n",
    "    \n",
    "    exceptions = []\n",
    "    for name in endpoints.index:\n",
    "        try:\n",
    "            endpoints = endpoints.rename(index={name: geneName_geneId[name.upper()]})\n",
    "        except:\n",
    "            exceptions.append(name)\n",
    "    \n",
    "    print(f'Endpoints exception count: {len(exceptions)}')\n",
    "    \n",
    "    for exc in exceptions:\n",
    "        endpoints = endpoints.drop(exc)\n",
    "\n",
    "    return list(endpoints.index)\n",
    "\n",
    "def createRandomEndpoints(regulatory, num):\n",
    "    rand = []\n",
    "    for i in range(num):\n",
    "        rand.append(regulatory.sample().index[0])\n",
    "    return rand\n",
    "\n",
    "def createGraph(regulatory, endpoints):\n",
    "    # creating network\n",
    "    regMatrix = regulatory.to_numpy().tolist()\n",
    "    \n",
    "    G = nx.Graph()\n",
    "    nodes = list(set(list(regulatory.index) + regulatory.columns.tolist() + endpoints))\n",
    "    G.add_nodes_from(nodes)\n",
    "    edgeCount = 0\n",
    "    for rowName, row in zip(regulatory.index, regMatrix):\n",
    "        for columnName, cell in zip(regulatory.columns.tolist(), row):\n",
    "            # if cell < 10:\n",
    "            G.add_edge(rowName, columnName, weight=cell)\n",
    "            edgeCount += 1\n",
    "    \n",
    "    print(edgeCount)\n",
    "\n",
    "    return G\n",
    "\n",
    "def connectionEnrichment(origins, endpoints):\n",
    "    datasets = os.listdir('data')\n",
    "    count = {}\n",
    "    for dataset in datasets:\n",
    "        regulatory = createRegulatory(f'data/{dataset}')\n",
    "        G = createGraph(regulatory, endpoints)\n",
    "        for origin in origins:\n",
    "            for i, endpoint in enumerate(tqdm(endpoints)):\n",
    "                try:\n",
    "                    path = nx.shortest_path(G, origin, endpoint, weight=\"weight\")\n",
    "                    for node in path:\n",
    "                        if node not in count:\n",
    "                            count[node] = 1\n",
    "                        else:\n",
    "                            count[node] += 1\n",
    "                except:\n",
    "                    pass\n",
    "    return count"
   ]
  },
  {
   "cell_type": "code",
   "execution_count": 4,
   "id": "bbe62678-d06a-4709-87ca-d56af241e3f6",
   "metadata": {},
   "outputs": [],
   "source": [
    "# defining origins\n",
    "OCT4 = 'ENSG00000229094'\n",
    "SOX2 = 'ENSG00000181449'\n",
    "KLF4 = 'ENSG00000136826'\n",
    "OSKgenes = [OCT4, SOX2, KLF4]"
   ]
  },
  {
   "cell_type": "code",
   "execution_count": null,
   "id": "9aeb5d9d-dc84-4110-9b6e-42c6bc3ec9fe",
   "metadata": {
    "scrolled": true
   },
   "outputs": [
    {
     "name": "stdout",
     "output_type": "stream",
     "text": [
      "loading: data/Testis.csv\n",
      "Row exception count 0\n",
      "Column exception count 0\n",
      "19476492\n"
     ]
    },
    {
     "name": "stderr",
     "output_type": "stream",
     "text": [
      " 37%|██████████████████████████████████████████████████▊                                                                                      | 115/310 [01:06<01:35,  2.05it/s]"
     ]
    }
   ],
   "source": [
    "# multi-dataset aging gene enrichment\n",
    "globalAgingGenes = createEndpoints('global_aging_genes.tsv')\n",
    "count = connectionEnrichment(OSKgenes, globalAgingGenes)"
   ]
  },
  {
   "cell_type": "code",
   "execution_count": null,
   "id": "f30ad9c9-9e0a-4338-a5fe-a54d8edf4114",
   "metadata": {},
   "outputs": [],
   "source": [
    "sorted_dict = dict(reversed(sorted(count.items(), key=lambda item: item[1])))\n",
    "print(len(sorted_dict))\n",
    "print(sorted_dict)"
   ]
  },
  {
   "cell_type": "code",
   "execution_count": null,
   "id": "07781301-7d7e-469c-a660-aacc82b80270",
   "metadata": {},
   "outputs": [],
   "source": []
  },
  {
   "cell_type": "code",
   "execution_count": null,
   "id": "7a5f7f01-9137-4e7b-8265-e74c54a29679",
   "metadata": {},
   "outputs": [
    {
     "name": "stdout",
     "output_type": "stream",
     "text": [
      "loading: data/Testis.csv\n",
      "Row exception count: 0\n",
      "Column exception count: 0\n",
      "loading: data/Testis.csv\n",
      "Row exception count: 0\n",
      "Column exception count: 0\n",
      "19476492\n"
     ]
    },
    {
     "name": "stderr",
     "output_type": "stream",
     "text": [
      "  7%|██████████▏                                                                                                                               | 23/310 [00:09<02:04,  2.30it/s]"
     ]
    }
   ],
   "source": [
    "# control experiment\n",
    "datasets = os.listdir('data')\n",
    "regulatory = createRegulatory(f'data/{datasets[0]}')\n",
    "randomGenes = createRandomEndpoints(regulatory, len(globalAgingGenes))\n",
    "count = connectionEnrichment(OSKgenes, randomGenes)"
   ]
  },
  {
   "cell_type": "code",
   "execution_count": null,
   "id": "a691014a-7e2c-4b4d-b5ce-79b0b46f194d",
   "metadata": {},
   "outputs": [],
   "source": [
    "sorted_dict = dict(reversed(sorted(count.items(), key=lambda item: item[1])))\n",
    "print(len(sorted_dict))\n",
    "print(sorted_dict)"
   ]
  },
  {
   "cell_type": "code",
   "execution_count": null,
   "id": "37a7bb77-6601-4e62-9ffd-67f536986834",
   "metadata": {},
   "outputs": [],
   "source": []
  }
 ],
 "metadata": {
  "kernelspec": {
   "display_name": "Python 3 (ipykernel)",
   "language": "python",
   "name": "python3"
  },
  "language_info": {
   "codemirror_mode": {
    "name": "ipython",
    "version": 3
   },
   "file_extension": ".py",
   "mimetype": "text/x-python",
   "name": "python",
   "nbconvert_exporter": "python",
   "pygments_lexer": "ipython3",
   "version": "3.13.0"
  }
 },
 "nbformat": 4,
 "nbformat_minor": 5
}
